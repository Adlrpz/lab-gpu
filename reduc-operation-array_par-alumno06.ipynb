{
 "cells": [
  {
   "cell_type": "markdown",
   "id": "f942d288-be01-42cd-9b84-83529c6769be",
   "metadata": {},
   "source": [
    "## Reduction operation: the sum of the numbers in the range [0, value)"
   ]
  },
  {
   "cell_type": "code",
   "execution_count": 7,
   "id": "496946fa-2a28-4c1d-8a6a-2ee0b8fd8ced",
   "metadata": {},
   "outputs": [
    {
     "name": "stdout",
     "output_type": "stream",
     "text": [
      "Time taken by reduction operation using a function: 45.4 ms ± 630 µs per loop (mean ± std. dev. of 2 runs, 10 loops each)\n",
      "And the result of the sum of numbers in the range [0, value) is: 24981.510655074384\n",
      "\n",
      "Time taken by reduction operation using numpy.sum(): 96.8 µs ± 464 ns per loop (mean ± std. dev. of 2 runs, 10,000 loops each)\n",
      "Now, the result using numpy.sum(): 24981.51065507439 \n",
      " \n",
      "Time taken by reduction operation using numpy.ndarray.sum(): 74.3 µs ± 89.1 ns per loop (mean ± std. dev. of 2 runs, 10,000 loops each)\n",
      "Now, the result using numpy.ndarray.sum(): 24981.51065507439\n"
     ]
    }
   ],
   "source": [
    "import numpy as np\n",
    "import sys\n",
    "\n",
    "def reduc_operation(A):\n",
    "    \"\"\"Compute the sum of the elements of Array A in the range [0, value).\"\"\"\n",
    "    s = 0\n",
    "    for i in range(A.size):\n",
    "        s += A[i]\n",
    "    return s\n",
    "\n",
    "# Secuencial\n",
    "\n",
    "#value = 5*10**4\n",
    "value = int(sys.argv[1])\n",
    "\n",
    "X = np.random.rand(value)\n",
    "\n",
    "# Para imprimir los pimeros valores del array\n",
    "\n",
    "# print(X[0:12])\n",
    "\n",
    "# Utilizando las operaciones mágicas de ipython\n",
    "\n",
    "tiempo = %timeit -r 2 -o -q reduc_operation(X)\n",
    "\n",
    "print(\"Time taken by reduction operation using a function:\", tiempo)\n",
    "\n",
    "\n",
    "print(f\"And the result of the sum of numbers in the range [0, value) is: {reduc_operation(X)}\\n\")\n",
    "\n",
    "\n",
    "# Utilizando numpy.sum()\n",
    "\n",
    "tiempo = %timeit -r 2 -o -q np.sum(X)\n",
    "\n",
    "print(\"Time taken by reduction operation using numpy.sum():\", tiempo)\n",
    "\n",
    "print(\"Now, the result using numpy.sum():\", np.sum(X),\"\\n \")\n",
    "\n",
    "\n",
    "# Utilizando numpy.ndarray.sum()\n",
    "\n",
    "tiempo= %timeit -r 2 -o -q X.sum()\n",
    "\n",
    "print(\"Time taken by reduction operation using numpy.ndarray.sum():\", tiempo)\n",
    "\n",
    "print(\"Now, the result using numpy.ndarray.sum():\", X.sum())\n",
    "\n",
    "\n"
   ]
  },
  {
   "cell_type": "markdown",
   "id": "ca223e25-be22-48ea-8332-19c68420a46e",
   "metadata": {},
   "source": [
    "### Apartado 3.2 a)"
   ]
  },
  {
   "cell_type": "code",
   "execution_count": 8,
   "id": "f4cd56ab-e289-4c8e-a908-c31696a20b0e",
   "metadata": {},
   "outputs": [
    {
     "name": "stdout",
     "output_type": "stream",
     "text": [
      "Tamaño del array: 50000000\n",
      "\n",
      "Suma secuencial usando reduc_operation\n",
      "Resultado: 24997398.75079772\n",
      "Tiempo: 46.792098 segundos\n",
      "\n",
      "Paralelismo usando 1 procesos\n",
      "Resultado: 24997398.75079772\n",
      "Tiempo: 49.195225 segundos\n",
      "\n",
      "Paralelismo usando 2 procesos\n",
      "Resultado: 24997398.75078987\n",
      "Tiempo: 26.370568 segundos\n",
      "\n",
      "Paralelismo usando 4 procesos\n",
      "Resultado: 24997398.75079415\n",
      "Tiempo: 13.751142 segundos\n",
      "\n"
     ]
    }
   ],
   "source": [
    "import numpy as np\n",
    "import multiprocessing\n",
    "import time\n",
    "import sys\n",
    "\n",
    "\n",
    "def reduc_operation(A):\n",
    "    \"\"\"\n",
    "    Suma los elementos de un array A.\n",
    "    Recibe por argumento A que será el array\n",
    "    Devuelve s que computa la suma de los elementos del array en el rango [0, value)\n",
    "    \"\"\"\n",
    "    s = 0\n",
    "    for i in range(A.size):  # Recorremos cada elemento del array\n",
    "        s += A[i]  # Acumulamos la suma\n",
    "    return s\n",
    "\n",
    "\n",
    "def split_array_custom(array, num_parts):\n",
    "    \"\"\"\n",
    "    Dividimos el array en partes iguales segun el numero de procesos que se pide\n",
    "    \"\"\"\n",
    "    size = array.size\n",
    "    ranges = []\n",
    "\n",
    "    if num_parts == 1:\n",
    "        # Con solo un proceso \n",
    "        # El array solo es 1 y va desde el inicio[0] hasta su tamaño[array.size] \n",
    "        ranges = [(0, size)]\n",
    "    elif num_parts == 2:\n",
    "        # Cuando tenemos dos procesos, dividimos en [0, int(size/2)] y [int(size/2), size]\n",
    "        mid = size // 2\n",
    "        ranges = [(0, mid), (mid, size)]\n",
    "    elif num_parts == 4:\n",
    "        # Si tenemos 4 procesos se dividirá en 1/4 \n",
    "        q1 = size // 4\n",
    "        q2 = size // 2\n",
    "        q3 = 3 * size // 4\n",
    "        ranges = [(0, q1), (q1, q2), (q2, q3), (q3, size)]\n",
    "    \n",
    "    # Usamos los rangos calculados para generar las partes en las que dividimos el array original \n",
    "    return [array[start:end] for start, end in ranges]\n",
    "\n",
    "\n",
    "if __name__ == \"__main__\":\n",
    "    # Creamos un array de números aleatorios de tamaño 50*10^7 con np.random.rand\n",
    "    #value = 5 * 10**7\n",
    "    value = int(sys.argv[1])\n",
    "    X = np.random.rand(value)  \n",
    "    print(f\"Tamaño del array: {X.size}\\n\")\n",
    "\n",
    "    # 1. Suma secuencial\n",
    "    print(\"Suma secuencial usando reduc_operation\")\n",
    "    # medimos el tiempo usando time.time\n",
    "    start_time = time.time()  \n",
    "    result = reduc_operation(X)  \n",
    "    end_time = time.time()  \n",
    "    print(f\"Resultado: {result}\")  # Muestro el resultado de la suma\n",
    "    print(f\"Tiempo: {end_time - start_time:.6f} segundos\\n\")  # Muestro el tiempo\n",
    "    \n",
    "    # 2. Paralelismo con multiprocessing\n",
    "    for num_procs in [1, 2, 4]:  # Aqui iteramos sobre el numero de procesos\n",
    "        print(f\"Paralelismo usando {num_procs} procesos\")\n",
    "        array_parts = split_array_custom(X, num_procs)  # Usamos la funcion anterior para dividir el array en las partes correspondientes\n",
    "    \n",
    "        start_time = time.time()  \n",
    "        # Creamos el pool de procesos\n",
    "        with multiprocessing.Pool(processes=num_procs) as pool:\n",
    "            # Con map ejecutar reduc_operation en paralelo para cada parte\n",
    "            partial_results = pool.map(reduc_operation, array_parts)\n",
    "            total_sum = sum(partial_results)  # Combinamos las sumas parciales\n",
    "        end_time = time.time() \n",
    "    \n",
    "        print(f\"Resultado: {total_sum}\")\n",
    "        print(f\"Tiempo: {end_time - start_time:.6f} segundos\\n\")"
   ]
  },
  {
   "cell_type": "markdown",
   "id": "7ab1ab2d-f032-417c-8ca5-ac1556dde700",
   "metadata": {},
   "source": [
    "### Apartado 3.2 b)"
   ]
  },
  {
   "cell_type": "code",
   "execution_count": 9,
   "id": "82421ea5-636c-4068-9a92-c7e96ba50bc7",
   "metadata": {},
   "outputs": [],
   "source": [
    "import numpy as np\n",
    "from numba import njit, prange\n",
    "import sys\n",
    "\n",
    "# Usamos njit\n",
    "@njit\n",
    "def reduc_operation(A):\n",
    "    \"\"\"Compute the sum of the elements of Array A in the range [0, value).\"\"\"\n",
    "    s = 0\n",
    "    for i in prange(A.size):\n",
    "        s += A[i]\n",
    "    return s\n",
    "\n",
    "# Usamos njit más paralelización\n",
    "@njit(parallel=True)\n",
    "def reduc_operation_parallel(A):\n",
    "    \"\"\"Compute the sum of the elements of Array A in the range [0, value).\"\"\"\n",
    "    s = 0\n",
    "    for i in prange(A.size):\n",
    "        s += A[i]\n",
    "    return s\n",
    "\n",
    "\n"
   ]
  },
  {
   "cell_type": "code",
   "execution_count": 10,
   "id": "cf2cd1d7-abc2-4101-9ccd-0fceb4a262cd",
   "metadata": {},
   "outputs": [
    {
     "name": "stdout",
     "output_type": "stream",
     "text": [
      "Time taken by reduction operation using a function with numba: 200 ms ± 2.76 ms per loop (mean ± std. dev. of 2 runs, 1 loop each)\n",
      "Time taken by reduction operation using a function with numba and parallel true: 21.3 ms ± 6.33 ms per loop (mean ± std. dev. of 2 runs, 1 loop each)\n"
     ]
    }
   ],
   "source": [
    "\n",
    "\n",
    "#value = 5*10**7\n",
    "value = int(sys.argv[1])\n",
    "\n",
    "X = np.random.rand(value)\n",
    "\n",
    "tiempo1 = %timeit -r 2 -o -q reduc_operation(X)\n",
    "\n",
    "print(\"Time taken by reduction operation using a function with numba:\", tiempo1)\n",
    "\n",
    "tiempo2 = %timeit -r 2 -o -q reduc_operation_parallel(X)\n",
    "\n",
    "print(\"Time taken by reduction operation using a function with numba and parallel true:\", tiempo2)"
   ]
  },
  {
   "cell_type": "markdown",
   "id": "1e387b40-4552-4ee9-ace4-e79c8d9fb30d",
   "metadata": {},
   "source": [
    "### Apartado 3.2 d)"
   ]
  },
  {
   "cell_type": "markdown",
   "id": "e1b77e88-fb7d-467d-beb8-7382842881cc",
   "metadata": {},
   "source": [
    "Time taken by reduction operation using a function: 4.29 s ± 195 µs per loop (mean ± std. dev. of 2 runs, 1 loop each)\n",
    "And the result of the sum of numbers in the range [0, value) is: 25001620.26445533\n",
    "\n",
    "Time taken by reduction operation using numpy.sum(): 19.1 ms ± 1.9 µs per loop (mean ± std. dev. of 2 runs, 100 loops each)\n",
    "Now, the result using numpy.sum(): 25001620.26444769 \n",
    " \n",
    "Time taken by reduction operation using numpy.ndarray.sum(): 19.1 ms ± 3.89 µs per loop (mean ± std. dev. of 2 runs, 100 loops each)\n",
    "Now, the result using numpy.ndarray.sum(): 25001620.26444769\n",
    "Tamaño del array: 50000000\n",
    "\n",
    "Suma secuencial usando reduc_operation\n",
    "Resultado: 25003435.982528258\n",
    "Tiempo: 4.423266 segundos\n",
    "\n",
    "Paralelismo usando 1 procesos\n",
    "Resultado: 25003435.982528258\n",
    "Tiempo: 4.844689 segundos\n",
    "\n",
    "Paralelismo usando 2 procesos\n",
    "Resultado: 25003435.982539788\n",
    "Tiempo: 2.612920 segundos\n",
    "\n",
    "Paralelismo usando 4 procesos\n",
    "Resultado: 25003435.98254129\n",
    "Tiempo: 1.492263 segundos\n",
    "\n",
    "Time taken by reduction operation using a function with numba: 49.3 ms ± 359 µs per loop (mean ± std. dev. of 2 runs, 1 loop each)\n",
    "Time taken by reduction operation using a function with numba and parallel true: 11.7 ms ± 41 µs per loop (mean ± std. dev. of 2 runs, 1 loop each)"
   ]
  },
  {
   "cell_type": "markdown",
   "id": "632c3a9c-c571-411e-94ff-94808fc96bd8",
   "metadata": {},
   "source": [
    "En los resultados obtenidos podemos ver un análisis detallado sobre diferentes estrategias para realizar una operación de reducción (suma) en un array de gran tamaño, concretamente, 5*10^7.\n",
    "\n",
    "En primer lugar, al usar una función con un bucle for para realizar la suma, el tiempo de ejecución es considerablemente mayor. Esto se debe principalmente a que el código Python interpretado carece de optimizaciones avanzadas sin aprovechar las capacidades del hardware ni de las bibliotecas especializadas. Por otro lado, las operaciones realizadas con NumPy, específicamente usando numpy.sum() y numpy.ndarray.sum(), son mucho más rápidas. Este resultado se explica por la implementación subyacente de NumPy en lenguajes de bajo nivel como C, que permite aprovechar eficientemente las arquitecturas modernas.\n",
    "\n",
    "En segundo lugar, cuando se utiliza paralelismo mediante procesos, el rendimiento mejora apreciablemente a medida que aumenta el número de procesos. Con un solo proceso, sorprendentemente, el tiempo de ejecución (4.84 segundos) es peor que el de la versión secuencial, debido al overhead asociado con la gestión de procesos. Sin embargo, al usar dos procesos, el tiempo se reduce casi a la mitad, y con cuatro procesos alcanza un tiempo aún menor. Esto demuestra que dividir la carga de trabajo entre múltiples núcleos puede ser altamente efectivo para operaciones de reducción intensivas, aunque el manejo del paralelismo introduce cierta complejidad adicional.\n",
    "\n",
    "En tercer lugar, usando Numba, el tiempo de ejecución sin paralelismo es menor que el observado en la primer celda, lo cual ya es una mejora notable sobre la función personalizada. No obstante, activando la paralelización (parallel=True), el tiempo aún se reduce más, hasta los 11.7 milisegundos. Este es el menor tiempo observado, por tanto, usando numba y la paralelización obtendriamos los mejores resultados en este caso.  \n"
   ]
  }
 ],
 "metadata": {
  "kernelspec": {
   "display_name": "Python 3 (ipykernel)",
   "language": "python",
   "name": "python3"
  },
  "language_info": {
   "codemirror_mode": {
    "name": "ipython",
    "version": 3
   },
   "file_extension": ".py",
   "mimetype": "text/x-python",
   "name": "python",
   "nbconvert_exporter": "python",
   "pygments_lexer": "ipython3",
   "version": "3.10.9"
  }
 },
 "nbformat": 4,
 "nbformat_minor": 5
}
