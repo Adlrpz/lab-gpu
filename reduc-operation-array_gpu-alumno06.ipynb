{
 "cells": [
  {
   "cell_type": "markdown",
   "id": "f942d288-be01-42cd-9b84-83529c6769be",
   "metadata": {},
   "source": [
    "## Reduction operation: the sum of the numbers in the range [0, value)"
   ]
  },
  {
   "cell_type": "code",
   "execution_count": 2,
   "id": "496946fa-2a28-4c1d-8a6a-2ee0b8fd8ced",
   "metadata": {},
   "outputs": [
    {
     "name": "stdout",
     "output_type": "stream",
     "text": [
      "Time taken by reduction operation using a function: 5.43 ms ± 246 µs per loop (mean ± std. dev. of 2 runs, 100 loops each)\n",
      "And the result of the sum of numbers in the range [0, value) is: 24951.433563822837\n",
      "\n",
      "Time taken by reduction operation using numpy.sum(): 13.5 µs ± 112 ns per loop (mean ± std. dev. of 2 runs, 100,000 loops each)\n",
      "Now, the result using numpy.sum(): 24951.433563823113 \n",
      " \n",
      "Time taken by reduction operation using numpy.ndarray.sum(): 11.6 µs ± 12.4 ns per loop (mean ± std. dev. of 2 runs, 100,000 loops each)\n",
      "Now, the result using numpy.ndarray.sum(): 24951.433563823113\n"
     ]
    }
   ],
   "source": [
    "import numpy as np\n",
    "import sys\n",
    "\n",
    "def reduc_operation(A):\n",
    "    \"\"\"Compute the sum of the elements of Array A in the range [0, value).\"\"\"\n",
    "    s = 0\n",
    "    for i in range(A.size):\n",
    "        s += A[i]\n",
    "    return s\n",
    "\n",
    "# Secuencial\n",
    "\n",
    "#value = 5*10**4\n",
    "value=int(sys.argv[1])\n",
    "\n",
    "X = np.random.rand(value)\n",
    "\n",
    "# Para imprimir los pimeros valores del array\n",
    "\n",
    "# print(X[0:12])\n",
    "\n",
    "# Utilizando las operaciones mágicas de ipython\n",
    "\n",
    "tiempo = %timeit -r 2 -o -q reduc_operation(X)\n",
    "\n",
    "print(\"Time taken by reduction operation using a function:\", tiempo)\n",
    "\n",
    "\n",
    "print(f\"And the result of the sum of numbers in the range [0, value) is: {reduc_operation(X)}\\n\")\n",
    "\n",
    "\n",
    "# Utilizando numpy.sum()\n",
    "\n",
    "tiempo = %timeit -r 2 -o -q np.sum(X)\n",
    "\n",
    "print(\"Time taken by reduction operation using numpy.sum():\", tiempo)\n",
    "\n",
    "print(\"Now, the result using numpy.sum():\", np.sum(X),\"\\n \")\n",
    "\n",
    "\n",
    "# Utilizando numpy.ndarray.sum()\n",
    "\n",
    "tiempo= %timeit -r 2 -o -q X.sum()\n",
    "\n",
    "print(\"Time taken by reduction operation using numpy.ndarray.sum():\", tiempo)\n",
    "\n",
    "print(\"Now, the result using numpy.ndarray.sum():\", X.sum())\n",
    "\n",
    "\n"
   ]
  },
  {
   "cell_type": "markdown",
   "id": "15231af2-9996-4034-889b-507db7b5a261",
   "metadata": {},
   "source": [
    "### Apartado 3.3 a) Libreria CuPy"
   ]
  },
  {
   "cell_type": "code",
   "execution_count": 1,
   "id": "b1f50881-b011-4c39-9e0b-cb4d9d84aa8f",
   "metadata": {},
   "outputs": [
    {
     "name": "stdout",
     "output_type": "stream",
     "text": [
      "CPU Array creation: 0.0003829002380371094 seconds\n",
      "Array size (CPU): 50000\n",
      "Array dtype (CPU): float64\n",
      "GPU Array creation: 0.08430266380310059 seconds\n",
      "Array shape (GPU): (50000,)\n",
      "Reducción secuencial en CPU\n",
      "Time taken by reduction operation using a function: 0.005198478698730469\n",
      "And the result of the sum of numbers in the range [0, value) is: 24934.612873965198\n",
      "\n",
      "Reducción secuencial en GPU\n",
      "Time taken by reduction operation using a function on GPU: 0.5224764347076416\n",
      "And the result of the sum of numbers in the range [0, value) is: 25072.203549622725\n",
      "\n",
      "Reducción con numpy.sum()\n",
      "Time taken by reduction operation using numpy.sum(): 9.179115295410156e-05\n",
      "Now, the result using numpy.sum(): 24934.61287396513\n",
      "\n",
      "Reducción con cupy.sum()\n",
      "Time taken by reduction operation using cupy.sum(): 0.00868082046508789\n",
      "Now, the result using cupy.sum(): 25072.203549622885\n",
      "\n"
     ]
    }
   ],
   "source": [
    "# Primero importamos todas las librerias necesarias \n",
    "import numpy as np\n",
    "import cupy as cp\n",
    "import time\n",
    "\n",
    "def reduc_operation(A):\n",
    "    \"\"\"Compute the sum of the elements of Array A in the range [0, value).\"\"\"\n",
    "    s = 0\n",
    "    for i in range(A.size):\n",
    "        s += A[i]\n",
    "    return s\n",
    "\n",
    "# Definimos el tamaño del array\n",
    "#value = 5 * 10**4\n",
    "value=int(sys.argv[1])\n",
    "\n",
    "\n",
    "# Mido el tiempo que tardo en crear el array en CPU con NumPy\n",
    "s = time.time()\n",
    "# Creo el array con numpy\n",
    "X_cpu = np.random.rand(value)\n",
    "e = time.time()\n",
    "print(f\"CPU Array creation: {e - s} seconds\")\n",
    "print(f\"Array size (CPU): {X_cpu.size}\")\n",
    "print(f\"Array dtype (CPU): {X_cpu.dtype}\")\n",
    "\n",
    "# Mido el tiempo que tardo en crear el array en GPU con CuPy\n",
    "s = time.time()\n",
    "# Creo el array con CuPy\n",
    "X_gpu = cp.random.rand(value)  \n",
    "cp.cuda.Stream.null.synchronize()  \n",
    "# Sincronización para asegurar que la GPU haya terminado\n",
    "e = time.time()\n",
    "print(f\"GPU Array creation: {e - s} seconds\")\n",
    "print(f\"Array shape (GPU): {X_gpu.shape}\")\n",
    "\n",
    "\n",
    "\n",
    "# Reducción secuencial usando reduc_operation (CPU)\n",
    "print(\"Reducción secuencial en CPU\")\n",
    "s = time.time()\n",
    "result_cpu = reduc_operation(X_cpu)\n",
    "e = time.time()\n",
    "print(\"Time taken by reduction operation using a function:\", e - s)\n",
    "print(f\"And the result of the sum of numbers in the range [0, value) is: {result_cpu}\\n\")\n",
    "\n",
    "# Reducción secuencial usando reduc_operation (GPU)\n",
    "print(\"Reducción secuencial en GPU\")\n",
    "s = time.time()\n",
    "result_gpu = reduc_operation(X_gpu)  \n",
    "# Suma en la GPU usando la función reduc_operation\n",
    "cp.cuda.Stream.null.synchronize() \n",
    "# Sincronización para asegurar que la GPU haya terminado\n",
    "e = time.time()\n",
    "print(\"Time taken by reduction operation using a function on GPU:\", e - s)\n",
    "print(f\"And the result of the sum of numbers in the range [0, value) is: {result_gpu}\\n\")\n",
    "\n",
    "# Reducción utilizando numpy.sum() (CPU)\n",
    "print(\"Reducción con numpy.sum()\")\n",
    "s = time.time()\n",
    "result_numpy_sum = np.sum(X_cpu)\n",
    "e = time.time()\n",
    "print(\"Time taken by reduction operation using numpy.sum():\", e - s)\n",
    "print(f\"Now, the result using numpy.sum(): {result_numpy_sum}\\n\")\n",
    "\n",
    "\n",
    "# Reducción utilizando cupy.sum() (GPU)\n",
    "print(\"Reducción con cupy.sum()\")\n",
    "s = time.time()\n",
    "result_cupy_sum = cp.sum(X_gpu)\n",
    "cp.cuda.Stream.null.synchronize()  \n",
    "# Sincronización para garantizar que la GPU haya terminado\n",
    "e = time.time()\n",
    "print(\"Time taken by reduction operation using cupy.sum():\", e - s)\n",
    "print(f\"Now, the result using cupy.sum(): {result_cupy_sum}\\n\")  \n",
    "\n"
   ]
  },
  {
   "cell_type": "markdown",
   "id": "33209037-cf72-48e6-813a-3a3d32060828",
   "metadata": {},
   "source": [
    "### Apartado 3.3 d)"
   ]
  },
  {
   "cell_type": "markdown",
   "id": "4b23ef2d-8b4f-414c-b934-d2e3882fbe3a",
   "metadata": {},
   "source": [
    "Crea una nueva celda de texto debajo de la última celda de código para explicar los resultados obtenidos por los paquetes cupy y Numba usando la GPU."
   ]
  },
  {
   "cell_type": "markdown",
   "id": "b7d7c06c-4abb-445c-9f7b-fa77275327ab",
   "metadata": {},
   "source": [
    "Solo vamos a ver los resultados usando la librerúa CuPy porque el paquete Numba no lo usamos al final."
   ]
  },
  {
   "cell_type": "markdown",
   "id": "d9beec86-5a14-4b02-b4c2-d89e4bbe2f08",
   "metadata": {},
   "source": [
    "### Resultado 1: "
   ]
  },
  {
   "cell_type": "markdown",
   "id": "9971821d-1b39-4cef-b70b-d36b34f1f43f",
   "metadata": {},
   "source": [
    "Ejecutando en la cola bohr-gpu con 5*10**6 obtuve los siguientes resultados: \n",
    "\n",
    "Time taken by reduction operation using a function: 260 ms ± 1.06 ms per loop (mean ± std. dev. of 2 runs, 1 loop each)\n",
    "And the result of the sum of numbers in the range [0, value) is: 2500248.34205854\n",
    "\n",
    "Time taken by reduction operation using numpy.sum(): 1.37 ms ± 3.3 µs per loop (mean ± std. dev. of 2 runs, 1,000 loops each)\n",
    "Now, the result using numpy.sum(): 2500248.3420584826 \n",
    " \n",
    "Time taken by reduction operation using numpy.ndarray.sum(): 1.36 ms ± 1.13 µs per loop (mean ± std. dev. of 2 runs, 1,000 loops each)\n",
    "Now, the result using numpy.ndarray.sum(): 2500248.3420584826\n",
    "\n",
    "CPU Array creation: 0.016791105270385742 seconds\n",
    "Array size (CPU): 5000000\n",
    "Array dtype (CPU): float64\n",
    "\n",
    "GPU Array creation: 0.7074065208435059 seconds\n",
    "Array shape (GPU): (5000000,)\n",
    "\n",
    "Reducción secuencial en CPU\n",
    "Time taken by reduction operation using a function: 0.26178669929504395\n",
    "And the result of the sum of numbers in the range [0, value) is: 2499540.5338810883\n",
    "\n",
    "Reducción secuencial en GPU\n",
    "Time taken by reduction operation using a function on GPU: 20.55726146697998\n",
    "And the result of the sum of numbers in the range [0, value) is: 2499899.3434088686\n",
    "\n",
    "Reducción con numpy.sum()\n",
    "Time taken by reduction operation using numpy.sum(): 0.001874685287475586\n",
    "Now, the result using numpy.sum(): 2499540.533881166\n",
    "\n",
    "Reducción con cupy.sum()\n",
    "Time taken by reduction operation using cupy.sum(): 0.015312910079956055\n",
    "Now, the result using cupy.sum(): 2499899.3434088277\n"
   ]
  },
  {
   "cell_type": "markdown",
   "id": "a731b2fc-1b2d-4b18-b113-cfaab05e89de",
   "metadata": {},
   "source": [
    "### Resultado 2: "
   ]
  },
  {
   "cell_type": "markdown",
   "id": "aa177a22-711f-438c-94f3-650e1c4118be",
   "metadata": {},
   "source": [
    "Ejecutando en la cola bohr-gpu con 5*10**7 obtuve los siguientes resultados:\n",
    "\n",
    "Time taken by reduction operation using a function: 2.62 s ± 7.99 ms per loop (mean ± std. dev. of 2 runs, 1 loop each)\n",
    "And the result of the sum of numbers in the range [0, value) is: 24999744.401541766\n",
    "\n",
    "Time taken by reduction operation using numpy.sum(): 17.7 ms ± 4.58 µs per loop (mean ± std. dev. of 2 runs, 100 loops each)\n",
    "Now, the result using numpy.sum(): 24999744.401545413 \n",
    " \n",
    "Time taken by reduction operation using numpy.ndarray.sum(): 17.7 ms ± 23.4 µs per loop (mean ± std. dev. of 2 runs, 100 loops each)\n",
    "Now, the result using numpy.ndarray.sum(): 24999744.401545413\n",
    "\n",
    "CPU Array creation: 0.16660761833190918 seconds\n",
    "Array size (CPU): 50000000\n",
    "Array dtype (CPU): float64\n",
    "\n",
    "GPU Array creation: 4.348877429962158 seconds\n",
    "Array shape (GPU): (50000000,)\n",
    "\n",
    "Reducción secuencial en CPU\n",
    "Time taken by reduction operation using a function: 2.6361966133117676\n",
    "And the result of the sum of numbers in the range [0, value) is: 24997561.513052203\n",
    "\n",
    "Reducción secuencial en GPU\n",
    "Time taken by reduction operation using a function on GPU: 211.7965545654297\n",
    "And the result of the sum of numbers in the range [0, value) is: 24997979.59035174\n",
    "\n",
    "Reducción con numpy.sum()\n",
    "Time taken by reduction operation using numpy.sum(): 0.01816391944885254\n",
    "Now, the result using numpy.sum(): 24997561.513059415\n",
    "\n",
    "Reducción con cupy.sum()\n",
    "Time taken by reduction operation using cupy.sum(): 0.38214588165283203\n",
    "Now, the result using cupy.sum(): 24997979.59035136"
   ]
  },
  {
   "cell_type": "markdown",
   "id": "ec58c354-3713-46b4-b673-edc9835874b9",
   "metadata": {},
   "source": [
    "### Resultado 3: "
   ]
  },
  {
   "cell_type": "markdown",
   "id": "f43917ef-4473-4987-9d8a-39fa8a10c7a9",
   "metadata": {},
   "source": [
    "Time taken by reduction operation using a function: 27 s ± 86.3 ms per loop (mean ± std. dev. of 2 runs, 1 loop each)\n",
    "And the result of the sum of numbers in the range [0, value) is: 250000884.9455672\n",
    "\n",
    "Time taken by reduction operation using numpy.sum(): 180 ms ± 62.3 µs per loop (mean ± std. dev. of 2 runs, 10 loops each)\n",
    "Now, the result using numpy.sum(): 250000884.9453151 \n",
    " \n",
    "Time taken by reduction operation using numpy.ndarray.sum(): 180 ms ± 17.1 µs per loop (mean ± std. dev. of 2 runs, 10 loops each)\n",
    "Now, the result using numpy.ndarray.sum(): 250000884.9453151\n",
    "\n",
    "CPU Array creation: 1.6256401538848877 seconds\n",
    "Array size (CPU): 500000000\n",
    "Array dtype (CPU): float64\n",
    "\n",
    "GPU Array creation: 1.90981125831604 seconds\n",
    "Array shape (GPU): (500000000,)\n",
    "\n",
    "Reducción secuencial en CPU\n",
    "Time taken by reduction operation using a function: 26.516064405441284\n",
    "And the result of the sum of numbers in the range [0, value) is: 249999952.19205445\n",
    "\n",
    "Reducción secuencial en GPU\n",
    "Time taken by reduction operation using a function on GPU: 2008.5711297988892\n",
    "And the result of the sum of numbers in the range [0, value) is: 249997214.61731622\n",
    "\n",
    "Reducción con numpy.sum()\n",
    "Time taken by reduction operation using numpy.sum(): 0.18059301376342773\n",
    "Now, the result using numpy.sum(): 249999952.19232768\n",
    "\n",
    "Reducción con cupy.sum()\n",
    "Time taken by reduction operation using cupy.sum(): 0.02237224578857422\n",
    "Now, the result using cupy.sum(): 249997214.61727217"
   ]
  },
  {
   "cell_type": "markdown",
   "id": "c9023b30-aa5f-465b-b6ce-8d557cb43e9a",
   "metadata": {},
   "source": [
    "### Comentarios"
   ]
  },
  {
   "cell_type": "markdown",
   "id": "0d01e62d-1d26-472c-8ac8-5fea983471b5",
   "metadata": {},
   "source": [
    "Los resultados obtenidos reflejan cómo el rendimiento entre la CPU y la GPU varía significativamente según el tamaño del array y la naturaleza del cálculo que se realiza. En operaciones con arrays pequeños, como los de tamaño 5*10^6, la CPU con herramientas como NumPy muestra un rendimiento superior (vemos un menor tiempo) gracias a su bajo overhead y a la optimización interna de sus operaciones, que están diseñadas para aprovechar eficientemente el hardware subyacente. Por tanto, en estos casos, la GPU presenta importantes desventajas debido al tiempo necesario para transferir los datos desde la memoria de la CPU hacia la GPU, además de los costos asociados a la inicialización de los kernels de cálculo, que no son proporcionales al tamaño del array y representan un costo fijo significativo. Por esta razón, el uso de la GPU en problemas pequeños no es una buena idea en mi opinión tras los resultados observados.\n",
    "\n",
    "Por otro lado, a medida que el tamaño del array aumenta, como en el caso de 5*10^7, el paralelismo masivo de la GPU comienza a compensar estas penalizaciones iniciales. Aunque en este rango de tamaño la CPU aún mantiene una ventaja en tiempo de ejecución debido a las optimizaciones de NumPy, se observa una reducción en la brecha de rendimiento. Por tanto, deduzco que, si el tamaño del array se incrementara aún más, como a 5*10^8, es muy probable que la GPU supere a la CPU.\n",
    "\n",
    "Ante esta teoría se aumentó el tamaño del array a 5*10^8, observando ahora sí una mejora con respecto al uso de la GPU. CuPy muestra un rendimiento significativamente superior en tiempo de reducción (22 ms) frente a NumPy (180 ms), pero el tiempo inicial de creación del array en GPU sigue siendo un factor importante.\n",
    "\n",
    "En resumen, los resultados reflejan las fortalezas y debilidades de cada arquitectura para tareas específicas. Para tamaños pequeños o medianos, la CPU sigue siendo más eficiente debido a su capacidad para realizar operaciones con un overhead mínimo y aprovechar la optimización de bibliotecas como NumPy. Para tamaños grandes o tareas computacionalmente intensivas, la GPU muestra su verdadero potencial gracias a su arquitectura diseñada para el paralelismo masivo. Sin embargo, para maximizar los beneficios de la GPU, es crucial trabajar con problemas suficientemente grandes y considerar las optimizaciones necesarias para minimizar los costos asociados a la transferencia de datos y la configuración inicial.\n"
   ]
  }
 ],
 "metadata": {
  "kernelspec": {
   "display_name": "Python 3 (ipykernel)",
   "language": "python",
   "name": "python3"
  },
  "language_info": {
   "codemirror_mode": {
    "name": "ipython",
    "version": 3
   },
   "file_extension": ".py",
   "mimetype": "text/x-python",
   "name": "python",
   "nbconvert_exporter": "python",
   "pygments_lexer": "ipython3",
   "version": "3.8.17"
  }
 },
 "nbformat": 4,
 "nbformat_minor": 5
}
