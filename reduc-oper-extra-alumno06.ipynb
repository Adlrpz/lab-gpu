{
 "cells": [
  {
   "cell_type": "code",
   "execution_count": 1,
   "id": "2652a4c3-9689-4d90-800e-2dad7af33699",
   "metadata": {},
   "outputs": [
    {
     "name": "stdout",
     "output_type": "stream",
     "text": [
      "Tamaño del array: 50000000\n",
      "\n",
      "Suma secuencial usando un solo proceso\n",
      "Resultado: 25003558.34750778\n",
      "Tiempo: 4.902518 segundos\n",
      "\n",
      "Suma en paralelo usando 1 procesos\n",
      "Resultado: 25003558.34750778\n",
      "Tiempo: 5.750307 segundos\n",
      "\n",
      "Suma en paralelo usando 2 procesos\n",
      "Resultado: 25003558.347505853\n",
      "Tiempo: 3.198278 segundos\n",
      "\n",
      "Suma en paralelo usando 4 procesos\n",
      "Resultado: 25003558.34750394\n",
      "Tiempo: 2.572638 segundos\n",
      "\n"
     ]
    }
   ],
   "source": [
    "import numpy as np\n",
    "import multiprocessing\n",
    "import time\n",
    "import sys\n",
    "\n",
    "\n",
    "def sum_multiprocessing(A, start, end):\n",
    "    s = 0\n",
    "    for i in range(start, end):\n",
    "        s += A[i]\n",
    "    return s\n",
    "\n",
    "\n",
    "def split_array_custom(array, num_parts):\n",
    "    size = array.size\n",
    "    ranges = []\n",
    "\n",
    "    if num_parts == 1:\n",
    "        # Un único rango que cubre todo el array\n",
    "        ranges = [(0, size)]\n",
    "    elif num_parts == 2:\n",
    "        # Dos rangos que dividen el array en dos mitades\n",
    "        mid = size // 2\n",
    "        ranges = [(0, mid), (mid, size)]\n",
    "    elif num_parts == 4:\n",
    "        # Cuatro rangos que dividen el array en cuartos\n",
    "        q1 = size // 4\n",
    "        q2 = size // 2\n",
    "        q3 = 3 * size // 4\n",
    "        ranges = [(0, q1), (q1, q2), (q2, q3), (q3, size)]\n",
    "\n",
    "    return ranges\n",
    "\n",
    "\n",
    "if __name__ == \"__main__\":\n",
    "    # Crear un array de números aleatorios\n",
    "    #value = 5 * 10**7  # Tamaño del array\n",
    "    value=int(sys.argv[1])\n",
    "    X = np.random.rand(value)\n",
    "    print(f\"Tamaño del array: {X.size}\\n\")\n",
    "\n",
    "    # Suma secuencial\n",
    "    print(\"Suma secuencial usando un solo proceso\")\n",
    "    start_time = time.time()\n",
    "    result = sum_multiprocessing(X, 0, X.size)  # Suma todo el array\n",
    "    end_time = time.time()\n",
    "    print(f\"Resultado: {result}\")\n",
    "    print(f\"Tiempo: {end_time - start_time:.6f} segundos\\n\")\n",
    "\n",
    "    # Suma en paralelo\n",
    "    for num_procs in [1, 2, 4]:\n",
    "        print(f\"Suma en paralelo usando {num_procs} procesos\")\n",
    "\n",
    "        # Obtener los rangos para los procesos\n",
    "        ranges = split_array_custom(X, num_procs)\n",
    "        # Preparar los argumentos como una lista de tuplas (array, start, end)\n",
    "        args = [(X, start, end) for start, end in ranges]\n",
    "\n",
    "        start_time = time.time()\n",
    "        with multiprocessing.Pool(processes=num_procs) as pool:\n",
    "            # Usar starmap para ejecutar sum_multiprocessing con los rangos\n",
    "            partial_results = pool.starmap(sum_multiprocessing, args)\n",
    "            total_sum = sum(partial_results)  # Sumar los resultados parciales\n",
    "        end_time = time.time()\n",
    "\n",
    "        print(f\"Resultado: {total_sum}\")\n",
    "        print(f\"Tiempo: {end_time - start_time:.6f} segundos\\n\")\n"
   ]
  },
  {
   "cell_type": "markdown",
   "id": "c18aacaf-ecd0-4c58-bb6c-35656f896c99",
   "metadata": {},
   "source": [
    "### Resultado obtenido "
   ]
  },
  {
   "cell_type": "markdown",
   "id": "5e8fc82f-6241-4e67-98bd-a74b89d250c2",
   "metadata": {},
   "source": [
    "Tamaño del array: 50000000\n",
    "\n",
    "Suma secuencial usando un solo proceso\n",
    "Resultado: 24998308.129806932\n",
    "Tiempo: 4.297643 segundos\n",
    "\n",
    "Suma en paralelo usando 1 procesos\n",
    "Resultado: 24998308.129806932\n",
    "Tiempo: 4.764542 segundos\n",
    "\n",
    "Suma en paralelo usando 2 procesos\n",
    "Resultado: 24998308.12981318\n",
    "Tiempo: 2.928582 segundos\n",
    "\n",
    "Suma en paralelo usando 4 procesos\n",
    "Resultado: 24998308.12981929\n",
    "Tiempo: 2.503165 segundos"
   ]
  },
  {
   "cell_type": "markdown",
   "id": "a9c17db1-6f99-4daa-a8be-b5f883d3d727",
   "metadata": {},
   "source": [
    "### Comentarios"
   ]
  },
  {
   "cell_type": "markdown",
   "id": "98cdba75-9b98-430a-98bb-243071b7bce5",
   "metadata": {},
   "source": [
    "En los resultados obtenidos podemos ver que la suma secuencial es la más lenta, con un tiempo de 4.29 segundos. \n",
    "Por otro lado, al usar 1 proceso en paralelo no mejora el tiempo, ya que incurre en la sobrecarga del manejo de procesos.\n",
    "Seguidamente, al usar 2 procesos, el tiempo mejora significativamente (2.93 segundos).\n",
    "Finalmente, con 4 procesos, mejora aún más (2.5 segundos). Esto demuestra que dividir el trabajo en múltiples procesos acelera la ejecución, aunque el beneficio disminuye al aumentar los procesos debido a la sobrecarga de coordinación entre ellos."
   ]
  }
 ],
 "metadata": {
  "kernelspec": {
   "display_name": "Python 3 (ipykernel)",
   "language": "python",
   "name": "python3"
  },
  "language_info": {
   "codemirror_mode": {
    "name": "ipython",
    "version": 3
   },
   "file_extension": ".py",
   "mimetype": "text/x-python",
   "name": "python",
   "nbconvert_exporter": "python",
   "pygments_lexer": "ipython3",
   "version": "3.8.17"
  }
 },
 "nbformat": 4,
 "nbformat_minor": 5
}
